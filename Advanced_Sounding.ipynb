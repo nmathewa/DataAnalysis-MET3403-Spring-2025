{
 "cells": [
  {
   "cell_type": "markdown",
   "metadata": {},
   "source": [
    "\n",
    "# Advanced Sounding\n",
    "\n",
    "Plot a sounding using MetPy with more advanced features.\n",
    "\n",
    "Beyond just plotting data, this uses calculations from `metpy.calc` to find the lifted\n",
    "condensation level (LCL) and the profile of a surface-based parcel. The area between the\n",
    "ambient profile and the parcel profile is colored as well.\n"
   ]
  },
  {
   "cell_type": "code",
   "execution_count": null,
   "metadata": {
    "collapsed": false,
    "jupyter": {
     "outputs_hidden": false
    }
   },
   "outputs": [],
   "source": [
    "import matplotlib.pyplot as plt\n",
    "import pandas as pd\n",
    "\n",
    "import metpy.calc as mpcalc\n",
    "from metpy.cbook import get_test_data\n",
    "from metpy.plots import add_metpy_logo, SkewT\n",
    "from metpy.units import units"
   ]
  },
  {
   "cell_type": "markdown",
   "metadata": {},
   "source": [
    "Upper air data can be obtained using the siphon package, but for this example we will use\n",
    "some of MetPy's sample data.\n",
    "\n"
   ]
  },
  {
   "cell_type": "code",
   "execution_count": null,
   "metadata": {
    "collapsed": false,
    "jupyter": {
     "outputs_hidden": false
    }
   },
   "outputs": [],
   "source": [
    "col_names = ['pressure', 'height', 'temperature', 'dewpoint', 'direction', 'speed']\n",
    "\n",
    "df = pd.read_fwf(get_test_data('may4_sounding.txt', as_file_obj=False),\n",
    "                 skiprows=5, usecols=[0, 1, 2, 3, 6, 7], names=col_names)\n",
    "\n",
    "# Drop any rows with all NaN values for T, Td, winds\n",
    "df = df.dropna(subset=('temperature', 'dewpoint', 'direction', 'speed'), how='all'\n",
    "               ).reset_index(drop=True)"
   ]
  },
  {
   "cell_type": "markdown",
   "metadata": {},
   "source": [
    "We will pull the data out of the example dataset into individual variables and\n",
    "assign units.\n",
    "\n"
   ]
  },
  {
   "cell_type": "code",
   "execution_count": null,
   "metadata": {
    "collapsed": false,
    "jupyter": {
     "outputs_hidden": false
    }
   },
   "outputs": [],
   "source": [
    "p = df['pressure'].values * units.hPa\n",
    "T = df['temperature'].values * units.degC\n",
    "Td = df['dewpoint'].values * units.degC\n",
    "wind_speed = df['speed'].values * units.knots\n",
    "wind_dir = df['direction'].values * units.degrees\n",
    "u, v = mpcalc.wind_components(wind_speed, wind_dir)"
   ]
  },
  {
   "cell_type": "markdown",
   "metadata": {},
   "source": [
    "Create a new figure. The dimensions here give a good aspect ratio.\n",
    "\n"
   ]
  },
  {
   "cell_type": "code",
   "execution_count": null,
   "metadata": {
    "collapsed": false,
    "jupyter": {
     "outputs_hidden": false
    }
   },
   "outputs": [],
   "source": [
    "fig = plt.figure(figsize=(9, 9))\n",
    "add_metpy_logo(fig, 115, 100)\n",
    "skew = SkewT(fig, rotation=45)\n",
    "\n",
    "# Plot the data using normal plotting functions, in this case using\n",
    "# log scaling in Y, as dictated by the typical meteorological plot.\n",
    "skew.plot(p, T, 'r')\n",
    "skew.plot(p, Td, 'g')\n",
    "skew.plot_barbs(p, u, v)\n",
    "skew.ax.set_ylim(1000, 100)\n",
    "skew.ax.set_xlim(-40, 60)\n",
    "\n",
    "# Set some better labels than the default\n",
    "skew.ax.set_xlabel(f'Temperature ({T.units:~P})')\n",
    "skew.ax.set_ylabel(f'Pressure ({p.units:~P})')\n",
    "\n",
    "# Calculate LCL height and plot as black dot. Because `p`'s first value is\n",
    "# ~1000 mb and its last value is ~250 mb, the `0` index is selected for\n",
    "# `p`, `T`, and `Td` to lift the parcel from the surface. If `p` was inverted,\n",
    "# i.e. start from low value, 250 mb, to a high value, 1000 mb, the `-1` index\n",
    "# should be selected.\n",
    "lcl_pressure, lcl_temperature = mpcalc.lcl(p[0], T[0], Td[0])\n",
    "skew.plot(lcl_pressure, lcl_temperature, 'ko', markerfacecolor='black')\n",
    "\n",
    "# Calculate full parcel profile and add to plot as black line\n",
    "prof = mpcalc.parcel_profile(p, T[0], Td[0]).to('degC')\n",
    "skew.plot(p, prof, 'k', linewidth=2)\n",
    "\n",
    "# Shade areas of CAPE and CIN\n",
    "skew.shade_cin(p, T, prof, Td)\n",
    "skew.shade_cape(p, T, prof)\n",
    "\n",
    "# An example of a slanted line at constant T -- in this case the 0\n",
    "# isotherm\n",
    "skew.ax.axvline(0, color='c', linestyle='--', linewidth=2)\n",
    "\n",
    "# Add the relevant special lines\n",
    "skew.plot_dry_adiabats()\n",
    "skew.plot_moist_adiabats()\n",
    "skew.plot_mixing_lines()\n",
    "\n",
    "# Show the plot\n",
    "plt.show()"
   ]
  }
 ],
 "metadata": {
  "kernelspec": {
   "display_name": "Python [conda env:fit25s-era5]",
   "language": "python",
   "name": "conda-env-fit25s-era5-py"
  },
  "language_info": {
   "codemirror_mode": {
    "name": "ipython",
    "version": 3
   },
   "file_extension": ".py",
   "mimetype": "text/x-python",
   "name": "python",
   "nbconvert_exporter": "python",
   "pygments_lexer": "ipython3",
   "version": "3.12.8"
  }
 },
 "nbformat": 4,
 "nbformat_minor": 4
}
